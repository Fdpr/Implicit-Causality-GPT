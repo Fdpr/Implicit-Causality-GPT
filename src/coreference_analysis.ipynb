{
 "cells": [
  {
   "cell_type": "code",
   "execution_count": 1,
   "id": "e652e7c5",
   "metadata": {},
   "outputs": [],
   "source": [
    "import pandas as pd\n",
    "from os import listdir"
   ]
  },
  {
   "cell_type": "code",
   "execution_count": 2,
   "id": "ddedfc50",
   "metadata": {},
   "outputs": [],
   "source": [
    "def calculate_biases(df):\n",
    "    coreferences_sample = df[[\"con\",\"cat\"]]\n",
    "    coreferences_sample[\"subject\"] = exp1_bigsample[\"np1 reference\"] == 0\n",
    "    coreferences_sample[\"object\"] = exp1_bigsample[\"np1 reference\"] == 1\n",
    "    co_group_sample = coreferences_sample.groupby([\"con\", \"cat\"]).sum()\n",
    "    co_percent_sample = co_group_sample.apply(lambda x: (x/sum(x)) * 100, axis=1).rename(columns={\"subject\": \"subject %\", \"object\": \"object %\"})\n",
    "    return pd.concat([co_group_sample, co_percent_sample], axis=1)[[\"subject\", \"subject %\", \"object\", \"object %\"]]"
   ]
  },
  {
   "cell_type": "code",
   "execution_count": null,
   "id": "2688f7fa",
   "metadata": {},
   "outputs": [],
   "source": [
    "for result_file in [file in listdir(\"../data\") if file.startswith(\"coreference\") and file.endswith(\".csv\")]:\n",
    "    df = pd.read_csv(result_file, sep=\";\")\n",
    "    print(result_file)\n",
    "    display(calculate_biases(df))"
   ]
  }
 ],
 "metadata": {
  "kernelspec": {
   "display_name": "Python 3 (ipykernel)",
   "language": "python",
   "name": "python3"
  },
  "language_info": {
   "codemirror_mode": {
    "name": "ipython",
    "version": 3
   },
   "file_extension": ".py",
   "mimetype": "text/x-python",
   "name": "python",
   "nbconvert_exporter": "python",
   "pygments_lexer": "ipython3",
   "version": "3.8.8"
  },
  "varInspector": {
   "cols": {
    "lenName": 16,
    "lenType": 16,
    "lenVar": 40
   },
   "kernels_config": {
    "python": {
     "delete_cmd_postfix": "",
     "delete_cmd_prefix": "del ",
     "library": "var_list.py",
     "varRefreshCmd": "print(var_dic_list())"
    },
    "r": {
     "delete_cmd_postfix": ") ",
     "delete_cmd_prefix": "rm(",
     "library": "var_list.r",
     "varRefreshCmd": "cat(var_dic_list()) "
    }
   },
   "types_to_exclude": [
    "module",
    "function",
    "builtin_function_or_method",
    "instance",
    "_Feature"
   ],
   "window_display": false
  }
 },
 "nbformat": 4,
 "nbformat_minor": 5
}
