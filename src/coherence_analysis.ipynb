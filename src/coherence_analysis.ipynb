{
 "cells": [
  {
   "cell_type": "code",
   "execution_count": null,
   "id": "6ca51da9",
   "metadata": {},
   "outputs": [],
   "source": [
    "import pandas as pd\n",
    "from os import listdir\n",
    "\n",
    "import seaborn as sns\n",
    "import matplotlib.pyplot as plt\n",
    "import matplotlib.cm as cm\n",
    "\n",
    "from matplotlib import rcParams\n",
    "rcParams.update({'figure.autolayout': True})"
   ]
  },
  {
   "cell_type": "code",
   "execution_count": null,
   "id": "aa631f79",
   "metadata": {},
   "outputs": [],
   "source": [
    "def plot_relations(df, connective=\"connective\", title=\"\"):\n",
    "    data = pd.DataFrame(df[\"cat\"])\n",
    "    data[\"explanation\"] = df[connective] == 0\n",
    "    data[\"consequence\"] = df[connective] == 1\n",
    "    data[\"occasion\"] = df[connective] == 2\n",
    "    data[\"elaboration\"] = df[connective] == 3\n",
    "    data[\"contrast\"] = df[connective] == 4\n",
    "    sns.set_theme()\n",
    "    sns.set_context(\"notebook\")\n",
    "    plt.tight_layout()\n",
    "    dates = data.groupby(\"cat\").sum().sort_values(by=[\"exp-stim\", \"stim-exp\"], axis=1, ascending=False)\n",
    "    ax = dates.plot(kind=\"bar\", stacked=\"True\")\n",
    "    ax.set(xlabel = title)\n",
    "    return ax"
   ]
  },
  {
   "cell_type": "code",
   "execution_count": null,
   "id": "60831c69",
   "metadata": {},
   "outputs": [],
   "source": [
    "for result_file in [file in listdir(\"../data/\") if file.startswith(\"coherence\") and file.endswith(\"_annotated.csv\")]:\n",
    "    df = pd.read_csv(\"../data/\" + result_file, sep=\";\")\n",
    "    print(result_file)\n",
    "    plt.show()"
   ]
  }
 ],
 "metadata": {
  "kernelspec": {
   "display_name": "Python 3 (ipykernel)",
   "language": "python",
   "name": "python3"
  },
  "language_info": {
   "codemirror_mode": {
    "name": "ipython",
    "version": 3
   },
   "file_extension": ".py",
   "mimetype": "text/x-python",
   "name": "python",
   "nbconvert_exporter": "python",
   "pygments_lexer": "ipython3",
   "version": "3.8.8"
  },
  "varInspector": {
   "cols": {
    "lenName": 16,
    "lenType": 16,
    "lenVar": 40
   },
   "kernels_config": {
    "python": {
     "delete_cmd_postfix": "",
     "delete_cmd_prefix": "del ",
     "library": "var_list.py",
     "varRefreshCmd": "print(var_dic_list())"
    },
    "r": {
     "delete_cmd_postfix": ") ",
     "delete_cmd_prefix": "rm(",
     "library": "var_list.r",
     "varRefreshCmd": "cat(var_dic_list()) "
    }
   },
   "types_to_exclude": [
    "module",
    "function",
    "builtin_function_or_method",
    "instance",
    "_Feature"
   ],
   "window_display": false
  }
 },
 "nbformat": 4,
 "nbformat_minor": 5
}
